{
 "cells": [
  {
   "cell_type": "code",
   "execution_count": null,
   "metadata": {},
   "outputs": [],
   "source": [
    "# https://stackoverflow.com/questions/38931566\n",
    "def background_gradient(s, m=None, M=None, cmap='Reds', low=0, high=0):\n",
    "    if m is None:\n",
    "        m = s.min().min()\n",
    "    if M is None:\n",
    "        M = s.max().max()\n",
    "    rng = M - m\n",
    "    norm = colors.Normalize(m - (rng * low), M + (rng * high))\n",
    "    normed = s.apply(lambda x: norm(x.values))\n",
    "    cm = plt.cm.get_cmap(cmap)\n",
    "    c = normed.applymap(lambda x: colors.rgb2hex(cm(x)))\n",
    "    ret = c.applymap(lambda x: 'background-color: %s' % x)\n",
    "    return ret"
   ]
  },
  {
   "cell_type": "code",
   "execution_count": null,
   "metadata": {},
   "outputs": [],
   "source": []
  },
  {
   "cell_type": "code",
   "execution_count": null,
   "metadata": {},
   "outputs": [],
   "source": [
    "%load_ext autoreload\n",
    "%autoreload 2\n",
    "from matplotlib import colors\n",
    "import matplotlib.pyplot as plt\n",
    "import numpy as np\n",
    "import seaborn as sns\n",
    "import pandas as pd\n",
    "import math"
   ]
  },
  {
   "cell_type": "code",
   "execution_count": null,
   "metadata": {},
   "outputs": [],
   "source": [
    "from scipy.stats import truncnorm\n",
    "\n",
    "# https://stackoverflow.com/questions/36894191/how-to-get-a-normal-distribution-within-a-range-in-numpy\n",
    "def get_truncated_normal(mean, sd, size, low, upp):\n",
    "    return truncnorm((low - mean) / sd, (upp - mean) / sd, loc=mean, scale=sd).rvs(size)"
   ]
  },
  {
   "cell_type": "code",
   "execution_count": null,
   "metadata": {},
   "outputs": [],
   "source": [
    "num_students = 30\n",
    "\n",
    "mean_A = 80\n",
    "std_A = 20\n",
    "\n",
    "mean_E = 75\n",
    "std_E = 25\n",
    "\n",
    "grades_A = get_truncated_normal(mean_A, std_A, num_students, 0, 100)  # np.random.normal(mean_A, std_A, num_A)\n",
    "grades_E = get_truncated_normal(mean_E, std_E, num_students, 0, 100)  # np.random.normal(mean_B, std_B, num_B)\n",
    "\n",
    "fig, ax = plt.subplots(2, 2, figsize=(30,15))\n",
    "\n",
    "sns.set(color_codes=True)\n",
    "ax[0][0].set_title(\"Actual grades PDF\")\n",
    "sns.distplot(grades_A, kde=True, rug=False, ax=ax[0][0])\n",
    "ax[0][0].set_title(\"Estimate grades PDF\")\n",
    "sns.distplot(grades_B, kde=True, rug=False, ax=ax[0][1])\n",
    "sns.distplot(grades_A, kde=False, rug=True, ax=ax[1][0])\n",
    "sns.distplot(grades_B, kde=False, rug=True, ax=ax[1][1])"
   ]
  },
  {
   "cell_type": "code",
   "execution_count": null,
   "metadata": {},
   "outputs": [],
   "source": [
    "num_bins = 10\n",
    "bins = np.linspace(0, 100, num_bins + 1)\n",
    "\n",
    "# Cut creates a mapping of each value to the appropriate bin\n",
    "cut_A = pd.cut(grades_A, bins=bins, include_lowest=True, right=True)\n",
    "cut_E = pd.cut(grades_E, bins=bins, include_lowest=True, right=True)\n",
    "\n",
    "pd.DataFrame({'grades': grades_A, 'cut': cut_A})\n"
   ]
  },
  {
   "cell_type": "code",
   "execution_count": null,
   "metadata": {},
   "outputs": [],
   "source": [
    "df_A = pd.DataFrame({'bucket':cut_A}).reset_index()\n",
    "df_E = pd.DataFrame({'bucket': cut_E}).reset_index()"
   ]
  },
  {
   "cell_type": "code",
   "execution_count": null,
   "metadata": {},
   "outputs": [],
   "source": [
    "merged_df = pd.merge(df_A, df_E, on=['index'], suffixes=('_actual', '_estimated'))\n",
    "\n",
    "# \n",
    "  # https://stackoverflow.com/a/43921476/768439\n",
    "#   m, n = len(merged_df.index.levels[0]), len(merged_df.index.levels[1])\n",
    "#   trans_matrix = merged_df.values.reshape(m, n)\n"
   ]
  },
  {
   "cell_type": "code",
   "execution_count": null,
   "metadata": {},
   "outputs": [],
   "source": [
    "merged_df = merged_df.groupby(['bucket_actual', 'bucket_estimated']).count()\n",
    "merged_df"
   ]
  },
  {
   "cell_type": "code",
   "execution_count": null,
   "metadata": {},
   "outputs": [],
   "source": [
    "# https://stackoverflow.com/a/43921476/768439\n",
    "# Simply converting a multi-leveled pandas dataframe into a 2d numpy array\n",
    "m, n = len(merged_df.index.levels[0]), len(merged_df.index.levels[1])\n",
    "trans_matrix = merged_df.values.reshape(m, n)"
   ]
  },
  {
   "cell_type": "code",
   "execution_count": null,
   "metadata": {},
   "outputs": [],
   "source": [
    "merged_df.values.reshape(m, n)"
   ]
  },
  {
   "cell_type": "code",
   "execution_count": null,
   "metadata": {},
   "outputs": [],
   "source": [
    "total = num_students # len(df)\n",
    "axis = np.linspace(5, 105, num_bins + 1)[:-1]\n",
    "trans_df = pd.DataFrame(trans_matrix, columns=axis, index=axis)\n",
    "trans_df = trans_df.applymap(lambda val: 0 if math.isnan(val) else round(val / total, 2))\n",
    "trans_df"
   ]
  },
  {
   "cell_type": "code",
   "execution_count": null,
   "metadata": {},
   "outputs": [],
   "source": [
    "trans_df.columns.name = 'Estimated'\n",
    "trans_df.index.name = 'Actual'\n",
    "trans_df.style.set_caption(\"Transition matrix\").apply(background_gradient, high=1, axis=None)"
   ]
  },
  {
   "cell_type": "code",
   "execution_count": null,
   "metadata": {},
   "outputs": [],
   "source": []
  }
 ],
 "metadata": {
  "language_info": {
   "name": "python",
   "pygments_lexer": "ipython3"
  }
 },
 "nbformat": 4,
 "nbformat_minor": 4
}
